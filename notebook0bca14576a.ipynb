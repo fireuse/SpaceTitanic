{
 "cells": [
  {
   "cell_type": "code",
   "execution_count": 1,
   "id": "819ad717",
   "metadata": {
    "_cell_guid": "b1076dfc-b9ad-4769-8c92-a6c4dae69d19",
    "_uuid": "8f2839f25d086af736a60e9eeb907d3b93b6e0e5",
    "execution": {
     "iopub.execute_input": "2023-12-16T12:56:30.258841Z",
     "iopub.status.busy": "2023-12-16T12:56:30.258328Z",
     "iopub.status.idle": "2023-12-16T12:56:32.580398Z",
     "shell.execute_reply": "2023-12-16T12:56:32.578647Z"
    },
    "papermill": {
     "duration": 2.332002,
     "end_time": "2023-12-16T12:56:32.583370",
     "exception": false,
     "start_time": "2023-12-16T12:56:30.251368",
     "status": "completed"
    },
    "tags": []
   },
   "outputs": [
    {
     "name": "stdout",
     "output_type": "stream",
     "text": [
      "/kaggle/input/spaceship-titanic/sample_submission.csv\n",
      "/kaggle/input/spaceship-titanic/train.csv\n",
      "/kaggle/input/spaceship-titanic/test.csv\n"
     ]
    }
   ],
   "source": [
    "# This Python 3 environment comes with many helpful analytics libraries installed\n",
    "# It is defined by the kaggle/python Docker image: https://github.com/kaggle/docker-python\n",
    "# For example, here's several helpful packages to load\n",
    "\n",
    "import numpy as np # linear algebra\n",
    "import pandas as pd # data processing, CSV file I/O (e.g. pd.read_csv)\n",
    "from sklearn.feature_selection import mutual_info_regression\n",
    "# Input data files are available in the read-only \"../input/\" directory\n",
    "# For example, running this (by clicking run or pressing Shift+Enter) will list all files under the input directory\n",
    "\n",
    "import os\n",
    "for dirname, _, filenames in os.walk('/kaggle/input'):\n",
    "    for filename in filenames:\n",
    "        print(os.path.join(dirname, filename))\n",
    "\n",
    "def make_mi_scores(X, y, discrete_features):\n",
    "    mi_scores = mutual_info_regression(X, y, discrete_features=discrete_features)\n",
    "    mi_scores = pd.Series(mi_scores, name=\"MI Scores\", index=X.columns)\n",
    "    mi_scores = mi_scores.sort_values(ascending=False)\n",
    "    return mi_scores\n",
    "# You can write up to 20GB to the current directory (/kaggle/working/) that gets preserved as output when you create a version using \"Save & Run All\" \n",
    "# You can also write temporary files to /kaggle/temp/, but they won't be saved outside of the current session"
   ]
  },
  {
   "cell_type": "code",
   "execution_count": 2,
   "id": "c90d7399",
   "metadata": {
    "execution": {
     "iopub.execute_input": "2023-12-16T12:56:32.593802Z",
     "iopub.status.busy": "2023-12-16T12:56:32.593123Z",
     "iopub.status.idle": "2023-12-16T12:56:32.731449Z",
     "shell.execute_reply": "2023-12-16T12:56:32.730221Z"
    },
    "papermill": {
     "duration": 0.146935,
     "end_time": "2023-12-16T12:56:32.734609",
     "exception": false,
     "start_time": "2023-12-16T12:56:32.587674",
     "status": "completed"
    },
    "tags": []
   },
   "outputs": [],
   "source": [
    "data = pd.read_csv(\"/kaggle/input/spaceship-titanic/train.csv\")\n",
    "test = pd.read_csv(\"/kaggle/input/spaceship-titanic/test.csv\")\n",
    "\n",
    "features = [\"HomePlanet\", \"CryoSleep\",\"Cabin\",\"Destination\",\"Age\",\"VIP\",\"RoomService\",\"FoodCourt\",\"ShoppingMall\",\"Spa\",\"VRDeck\",\"Group\"]\n",
    "y_data = data.pop(\"Transported\").astype(\"float\")\n",
    "data[\"Group\"] = data[\"PassengerId\"].apply(lambda x: int(x[-2:])).astype(\"float64\")\n",
    "x_data = data[features]\n",
    "\n",
    "test[\"Group\"] = test[\"PassengerId\"].apply(lambda x: int(x[-2:])).astype(\"float64\")\n",
    "x_test = test[features]"
   ]
  },
  {
   "cell_type": "code",
   "execution_count": 3,
   "id": "a10a1830",
   "metadata": {
    "execution": {
     "iopub.execute_input": "2023-12-16T12:56:32.745211Z",
     "iopub.status.busy": "2023-12-16T12:56:32.743881Z",
     "iopub.status.idle": "2023-12-16T12:56:32.796585Z",
     "shell.execute_reply": "2023-12-16T12:56:32.795255Z"
    },
    "papermill": {
     "duration": 0.061501,
     "end_time": "2023-12-16T12:56:32.800281",
     "exception": false,
     "start_time": "2023-12-16T12:56:32.738780",
     "status": "completed"
    },
    "tags": []
   },
   "outputs": [
    {
     "name": "stderr",
     "output_type": "stream",
     "text": [
      "/tmp/ipykernel_19/1884274725.py:1: SettingWithCopyWarning: \n",
      "A value is trying to be set on a copy of a slice from a DataFrame.\n",
      "Try using .loc[row_indexer,col_indexer] = value instead\n",
      "\n",
      "See the caveats in the documentation: https://pandas.pydata.org/pandas-docs/stable/user_guide/indexing.html#returning-a-view-versus-a-copy\n",
      "  x_data[[\"Deck\",\"Num\",\"Side\"]] = x_data.pop(\"Cabin\").str.split(\"/\",expand=True)\n",
      "/tmp/ipykernel_19/1884274725.py:1: SettingWithCopyWarning: \n",
      "A value is trying to be set on a copy of a slice from a DataFrame.\n",
      "Try using .loc[row_indexer,col_indexer] = value instead\n",
      "\n",
      "See the caveats in the documentation: https://pandas.pydata.org/pandas-docs/stable/user_guide/indexing.html#returning-a-view-versus-a-copy\n",
      "  x_data[[\"Deck\",\"Num\",\"Side\"]] = x_data.pop(\"Cabin\").str.split(\"/\",expand=True)\n",
      "/tmp/ipykernel_19/1884274725.py:5: SettingWithCopyWarning: \n",
      "A value is trying to be set on a copy of a slice from a DataFrame.\n",
      "Try using .loc[row_indexer,col_indexer] = value instead\n",
      "\n",
      "See the caveats in the documentation: https://pandas.pydata.org/pandas-docs/stable/user_guide/indexing.html#returning-a-view-versus-a-copy\n",
      "  x_test[[\"Deck\",\"Num\",\"Side\"]] = x_test.pop(\"Cabin\").str.split(\"/\",expand=True)\n",
      "/tmp/ipykernel_19/1884274725.py:5: SettingWithCopyWarning: \n",
      "A value is trying to be set on a copy of a slice from a DataFrame.\n",
      "Try using .loc[row_indexer,col_indexer] = value instead\n",
      "\n",
      "See the caveats in the documentation: https://pandas.pydata.org/pandas-docs/stable/user_guide/indexing.html#returning-a-view-versus-a-copy\n",
      "  x_test[[\"Deck\",\"Num\",\"Side\"]] = x_test.pop(\"Cabin\").str.split(\"/\",expand=True)\n"
     ]
    }
   ],
   "source": [
    "x_data[[\"Deck\",\"Num\",\"Side\"]] = x_data.pop(\"Cabin\").str.split(\"/\",expand=True)\n",
    "x_data[\"Num\"] = x_data[\"Num\"].astype(\"float64\")\n",
    "x_data[\"VIP\"] = x_data[\"VIP\"].astype(\"float64\")\n",
    "x_data[\"CryoSleep\"] = x_data[\"CryoSleep\"].astype(\"float64\")\n",
    "x_test[[\"Deck\",\"Num\",\"Side\"]] = x_test.pop(\"Cabin\").str.split(\"/\",expand=True)\n",
    "x_test[\"Num\"] = x_test[\"Num\"].astype(\"float64\")\n",
    "x_test[\"VIP\"] = x_test[\"VIP\"].astype(\"float64\")\n",
    "x_test[\"CryoSleep\"] = x_test[\"CryoSleep\"].astype(\"float64\")"
   ]
  },
  {
   "cell_type": "code",
   "execution_count": 4,
   "id": "76541ce8",
   "metadata": {
    "execution": {
     "iopub.execute_input": "2023-12-16T12:56:32.810146Z",
     "iopub.status.busy": "2023-12-16T12:56:32.809702Z",
     "iopub.status.idle": "2023-12-16T12:56:32.847138Z",
     "shell.execute_reply": "2023-12-16T12:56:32.845566Z"
    },
    "papermill": {
     "duration": 0.046923,
     "end_time": "2023-12-16T12:56:32.851230",
     "exception": false,
     "start_time": "2023-12-16T12:56:32.804307",
     "status": "completed"
    },
    "tags": []
   },
   "outputs": [
    {
     "data": {
      "text/html": [
       "<div>\n",
       "<style scoped>\n",
       "    .dataframe tbody tr th:only-of-type {\n",
       "        vertical-align: middle;\n",
       "    }\n",
       "\n",
       "    .dataframe tbody tr th {\n",
       "        vertical-align: top;\n",
       "    }\n",
       "\n",
       "    .dataframe thead th {\n",
       "        text-align: right;\n",
       "    }\n",
       "</style>\n",
       "<table border=\"1\" class=\"dataframe\">\n",
       "  <thead>\n",
       "    <tr style=\"text-align: right;\">\n",
       "      <th></th>\n",
       "      <th>HomePlanet</th>\n",
       "      <th>CryoSleep</th>\n",
       "      <th>Destination</th>\n",
       "      <th>Age</th>\n",
       "      <th>VIP</th>\n",
       "      <th>RoomService</th>\n",
       "      <th>FoodCourt</th>\n",
       "      <th>ShoppingMall</th>\n",
       "      <th>Spa</th>\n",
       "      <th>VRDeck</th>\n",
       "      <th>Group</th>\n",
       "      <th>Deck</th>\n",
       "      <th>Num</th>\n",
       "      <th>Side</th>\n",
       "    </tr>\n",
       "  </thead>\n",
       "  <tbody>\n",
       "    <tr>\n",
       "      <th>8688</th>\n",
       "      <td>Europa</td>\n",
       "      <td>0.0</td>\n",
       "      <td>55 Cancri e</td>\n",
       "      <td>41.0</td>\n",
       "      <td>1.0</td>\n",
       "      <td>0.0</td>\n",
       "      <td>6819.0</td>\n",
       "      <td>0.0</td>\n",
       "      <td>1643.0</td>\n",
       "      <td>74.0</td>\n",
       "      <td>1.0</td>\n",
       "      <td>A</td>\n",
       "      <td>98.0</td>\n",
       "      <td>P</td>\n",
       "    </tr>\n",
       "    <tr>\n",
       "      <th>8689</th>\n",
       "      <td>Earth</td>\n",
       "      <td>1.0</td>\n",
       "      <td>PSO J318.5-22</td>\n",
       "      <td>18.0</td>\n",
       "      <td>0.0</td>\n",
       "      <td>0.0</td>\n",
       "      <td>0.0</td>\n",
       "      <td>0.0</td>\n",
       "      <td>0.0</td>\n",
       "      <td>0.0</td>\n",
       "      <td>1.0</td>\n",
       "      <td>G</td>\n",
       "      <td>1499.0</td>\n",
       "      <td>S</td>\n",
       "    </tr>\n",
       "    <tr>\n",
       "      <th>8690</th>\n",
       "      <td>Earth</td>\n",
       "      <td>0.0</td>\n",
       "      <td>TRAPPIST-1e</td>\n",
       "      <td>26.0</td>\n",
       "      <td>0.0</td>\n",
       "      <td>0.0</td>\n",
       "      <td>0.0</td>\n",
       "      <td>1872.0</td>\n",
       "      <td>1.0</td>\n",
       "      <td>0.0</td>\n",
       "      <td>1.0</td>\n",
       "      <td>G</td>\n",
       "      <td>1500.0</td>\n",
       "      <td>S</td>\n",
       "    </tr>\n",
       "    <tr>\n",
       "      <th>8691</th>\n",
       "      <td>Europa</td>\n",
       "      <td>0.0</td>\n",
       "      <td>55 Cancri e</td>\n",
       "      <td>32.0</td>\n",
       "      <td>0.0</td>\n",
       "      <td>0.0</td>\n",
       "      <td>1049.0</td>\n",
       "      <td>0.0</td>\n",
       "      <td>353.0</td>\n",
       "      <td>3235.0</td>\n",
       "      <td>1.0</td>\n",
       "      <td>E</td>\n",
       "      <td>608.0</td>\n",
       "      <td>S</td>\n",
       "    </tr>\n",
       "    <tr>\n",
       "      <th>8692</th>\n",
       "      <td>Europa</td>\n",
       "      <td>0.0</td>\n",
       "      <td>TRAPPIST-1e</td>\n",
       "      <td>44.0</td>\n",
       "      <td>0.0</td>\n",
       "      <td>126.0</td>\n",
       "      <td>4688.0</td>\n",
       "      <td>0.0</td>\n",
       "      <td>0.0</td>\n",
       "      <td>12.0</td>\n",
       "      <td>2.0</td>\n",
       "      <td>E</td>\n",
       "      <td>608.0</td>\n",
       "      <td>S</td>\n",
       "    </tr>\n",
       "  </tbody>\n",
       "</table>\n",
       "</div>"
      ],
      "text/plain": [
       "     HomePlanet  CryoSleep    Destination   Age  VIP  RoomService  FoodCourt  \\\n",
       "8688     Europa        0.0    55 Cancri e  41.0  1.0          0.0     6819.0   \n",
       "8689      Earth        1.0  PSO J318.5-22  18.0  0.0          0.0        0.0   \n",
       "8690      Earth        0.0    TRAPPIST-1e  26.0  0.0          0.0        0.0   \n",
       "8691     Europa        0.0    55 Cancri e  32.0  0.0          0.0     1049.0   \n",
       "8692     Europa        0.0    TRAPPIST-1e  44.0  0.0        126.0     4688.0   \n",
       "\n",
       "      ShoppingMall     Spa  VRDeck  Group Deck     Num Side  \n",
       "8688           0.0  1643.0    74.0    1.0    A    98.0    P  \n",
       "8689           0.0     0.0     0.0    1.0    G  1499.0    S  \n",
       "8690        1872.0     1.0     0.0    1.0    G  1500.0    S  \n",
       "8691           0.0   353.0  3235.0    1.0    E   608.0    S  \n",
       "8692           0.0     0.0    12.0    2.0    E   608.0    S  "
      ]
     },
     "execution_count": 4,
     "metadata": {},
     "output_type": "execute_result"
    }
   ],
   "source": [
    "x_data[\"Side\"].value_counts()\n",
    "x_data.tail()\n",
    "#print(x_data.info())\n",
    "#print(x_test.info())"
   ]
  },
  {
   "cell_type": "code",
   "execution_count": 5,
   "id": "4491075e",
   "metadata": {
    "execution": {
     "iopub.execute_input": "2023-12-16T12:56:32.862757Z",
     "iopub.status.busy": "2023-12-16T12:56:32.862298Z",
     "iopub.status.idle": "2023-12-16T12:56:32.883458Z",
     "shell.execute_reply": "2023-12-16T12:56:32.882193Z"
    },
    "papermill": {
     "duration": 0.030409,
     "end_time": "2023-12-16T12:56:32.886532",
     "exception": false,
     "start_time": "2023-12-16T12:56:32.856123",
     "status": "completed"
    },
    "tags": []
   },
   "outputs": [],
   "source": [
    "from sklearn.compose import ColumnTransformer\n",
    "from sklearn.pipeline import Pipeline\n",
    "from sklearn.impute import SimpleImputer\n",
    "from sklearn.preprocessing import OneHotEncoder\n",
    "\n",
    "categorical = [\"HomePlanet\", \"Destination\", \"Deck\", \"Side\"]\n",
    "numerical = [i for i in x_data.columns if i not in categorical]\n",
    "\n",
    "cat = Pipeline(steps=[\n",
    "    (\"imp\", SimpleImputer(strategy=\"constant\")),\n",
    "    (\"enc\", OneHotEncoder())\n",
    "])\n",
    "prep = ColumnTransformer(transformers=[\n",
    "    (\"num\", SimpleImputer(), numerical),\n",
    "    (\"cat\", cat, categorical)\n",
    "])\n"
   ]
  },
  {
   "cell_type": "code",
   "execution_count": 6,
   "id": "5e58d991",
   "metadata": {
    "execution": {
     "iopub.execute_input": "2023-12-16T12:56:32.897403Z",
     "iopub.status.busy": "2023-12-16T12:56:32.896940Z",
     "iopub.status.idle": "2023-12-16T12:56:33.850407Z",
     "shell.execute_reply": "2023-12-16T12:56:33.849037Z"
    },
    "papermill": {
     "duration": 0.962019,
     "end_time": "2023-12-16T12:56:33.853058",
     "exception": false,
     "start_time": "2023-12-16T12:56:32.891039",
     "status": "completed"
    },
    "tags": []
   },
   "outputs": [
    {
     "data": {
      "text/html": [
       "<style>#sk-container-id-1 {color: black;background-color: white;}#sk-container-id-1 pre{padding: 0;}#sk-container-id-1 div.sk-toggleable {background-color: white;}#sk-container-id-1 label.sk-toggleable__label {cursor: pointer;display: block;width: 100%;margin-bottom: 0;padding: 0.3em;box-sizing: border-box;text-align: center;}#sk-container-id-1 label.sk-toggleable__label-arrow:before {content: \"▸\";float: left;margin-right: 0.25em;color: #696969;}#sk-container-id-1 label.sk-toggleable__label-arrow:hover:before {color: black;}#sk-container-id-1 div.sk-estimator:hover label.sk-toggleable__label-arrow:before {color: black;}#sk-container-id-1 div.sk-toggleable__content {max-height: 0;max-width: 0;overflow: hidden;text-align: left;background-color: #f0f8ff;}#sk-container-id-1 div.sk-toggleable__content pre {margin: 0.2em;color: black;border-radius: 0.25em;background-color: #f0f8ff;}#sk-container-id-1 input.sk-toggleable__control:checked~div.sk-toggleable__content {max-height: 200px;max-width: 100%;overflow: auto;}#sk-container-id-1 input.sk-toggleable__control:checked~label.sk-toggleable__label-arrow:before {content: \"▾\";}#sk-container-id-1 div.sk-estimator input.sk-toggleable__control:checked~label.sk-toggleable__label {background-color: #d4ebff;}#sk-container-id-1 div.sk-label input.sk-toggleable__control:checked~label.sk-toggleable__label {background-color: #d4ebff;}#sk-container-id-1 input.sk-hidden--visually {border: 0;clip: rect(1px 1px 1px 1px);clip: rect(1px, 1px, 1px, 1px);height: 1px;margin: -1px;overflow: hidden;padding: 0;position: absolute;width: 1px;}#sk-container-id-1 div.sk-estimator {font-family: monospace;background-color: #f0f8ff;border: 1px dotted black;border-radius: 0.25em;box-sizing: border-box;margin-bottom: 0.5em;}#sk-container-id-1 div.sk-estimator:hover {background-color: #d4ebff;}#sk-container-id-1 div.sk-parallel-item::after {content: \"\";width: 100%;border-bottom: 1px solid gray;flex-grow: 1;}#sk-container-id-1 div.sk-label:hover label.sk-toggleable__label {background-color: #d4ebff;}#sk-container-id-1 div.sk-serial::before {content: \"\";position: absolute;border-left: 1px solid gray;box-sizing: border-box;top: 0;bottom: 0;left: 50%;z-index: 0;}#sk-container-id-1 div.sk-serial {display: flex;flex-direction: column;align-items: center;background-color: white;padding-right: 0.2em;padding-left: 0.2em;position: relative;}#sk-container-id-1 div.sk-item {position: relative;z-index: 1;}#sk-container-id-1 div.sk-parallel {display: flex;align-items: stretch;justify-content: center;background-color: white;position: relative;}#sk-container-id-1 div.sk-item::before, #sk-container-id-1 div.sk-parallel-item::before {content: \"\";position: absolute;border-left: 1px solid gray;box-sizing: border-box;top: 0;bottom: 0;left: 50%;z-index: -1;}#sk-container-id-1 div.sk-parallel-item {display: flex;flex-direction: column;z-index: 1;position: relative;background-color: white;}#sk-container-id-1 div.sk-parallel-item:first-child::after {align-self: flex-end;width: 50%;}#sk-container-id-1 div.sk-parallel-item:last-child::after {align-self: flex-start;width: 50%;}#sk-container-id-1 div.sk-parallel-item:only-child::after {width: 0;}#sk-container-id-1 div.sk-dashed-wrapped {border: 1px dashed gray;margin: 0 0.4em 0.5em 0.4em;box-sizing: border-box;padding-bottom: 0.4em;background-color: white;}#sk-container-id-1 div.sk-label label {font-family: monospace;font-weight: bold;display: inline-block;line-height: 1.2em;}#sk-container-id-1 div.sk-label-container {text-align: center;}#sk-container-id-1 div.sk-container {/* jupyter's `normalize.less` sets `[hidden] { display: none; }` but bootstrap.min.css set `[hidden] { display: none !important; }` so we also need the `!important` here to be able to override the default hidden behavior on the sphinx rendered scikit-learn.org. See: https://github.com/scikit-learn/scikit-learn/issues/21755 */display: inline-block !important;position: relative;}#sk-container-id-1 div.sk-text-repr-fallback {display: none;}</style><div id=\"sk-container-id-1\" class=\"sk-top-container\"><div class=\"sk-text-repr-fallback\"><pre>Pipeline(steps=[(&#x27;prep&#x27;,\n",
       "                 ColumnTransformer(transformers=[(&#x27;num&#x27;, SimpleImputer(),\n",
       "                                                  [&#x27;CryoSleep&#x27;, &#x27;Age&#x27;, &#x27;VIP&#x27;,\n",
       "                                                   &#x27;RoomService&#x27;, &#x27;FoodCourt&#x27;,\n",
       "                                                   &#x27;ShoppingMall&#x27;, &#x27;Spa&#x27;,\n",
       "                                                   &#x27;VRDeck&#x27;, &#x27;Group&#x27;, &#x27;Num&#x27;]),\n",
       "                                                 (&#x27;cat&#x27;,\n",
       "                                                  Pipeline(steps=[(&#x27;imp&#x27;,\n",
       "                                                                   SimpleImputer(strategy=&#x27;constant&#x27;)),\n",
       "                                                                  (&#x27;enc&#x27;,\n",
       "                                                                   OneHotEncoder())]),\n",
       "                                                  [&#x27;HomePlanet&#x27;, &#x27;Destination&#x27;,\n",
       "                                                   &#x27;Deck&#x27;, &#x27;Side&#x27;])])),\n",
       "                (&#x27;model&#x27;,\n",
       "                 XGBClassifier(base_score=N...\n",
       "                               feature_types=None, gamma=None, grow_policy=None,\n",
       "                               importance_type=None,\n",
       "                               interaction_constraints=None, learning_rate=0.1,\n",
       "                               max_bin=None, max_cat_threshold=None,\n",
       "                               max_cat_to_onehot=None, max_delta_step=None,\n",
       "                               max_depth=None, max_leaves=None,\n",
       "                               min_child_weight=None, missing=nan,\n",
       "                               monotone_constraints=None, multi_strategy=None,\n",
       "                               n_estimators=10, n_jobs=None,\n",
       "                               num_parallel_tree=None, random_state=None, ...))])</pre><b>In a Jupyter environment, please rerun this cell to show the HTML representation or trust the notebook. <br />On GitHub, the HTML representation is unable to render, please try loading this page with nbviewer.org.</b></div><div class=\"sk-container\" hidden><div class=\"sk-item sk-dashed-wrapped\"><div class=\"sk-label-container\"><div class=\"sk-label sk-toggleable\"><input class=\"sk-toggleable__control sk-hidden--visually\" id=\"sk-estimator-id-1\" type=\"checkbox\" ><label for=\"sk-estimator-id-1\" class=\"sk-toggleable__label sk-toggleable__label-arrow\">Pipeline</label><div class=\"sk-toggleable__content\"><pre>Pipeline(steps=[(&#x27;prep&#x27;,\n",
       "                 ColumnTransformer(transformers=[(&#x27;num&#x27;, SimpleImputer(),\n",
       "                                                  [&#x27;CryoSleep&#x27;, &#x27;Age&#x27;, &#x27;VIP&#x27;,\n",
       "                                                   &#x27;RoomService&#x27;, &#x27;FoodCourt&#x27;,\n",
       "                                                   &#x27;ShoppingMall&#x27;, &#x27;Spa&#x27;,\n",
       "                                                   &#x27;VRDeck&#x27;, &#x27;Group&#x27;, &#x27;Num&#x27;]),\n",
       "                                                 (&#x27;cat&#x27;,\n",
       "                                                  Pipeline(steps=[(&#x27;imp&#x27;,\n",
       "                                                                   SimpleImputer(strategy=&#x27;constant&#x27;)),\n",
       "                                                                  (&#x27;enc&#x27;,\n",
       "                                                                   OneHotEncoder())]),\n",
       "                                                  [&#x27;HomePlanet&#x27;, &#x27;Destination&#x27;,\n",
       "                                                   &#x27;Deck&#x27;, &#x27;Side&#x27;])])),\n",
       "                (&#x27;model&#x27;,\n",
       "                 XGBClassifier(base_score=N...\n",
       "                               feature_types=None, gamma=None, grow_policy=None,\n",
       "                               importance_type=None,\n",
       "                               interaction_constraints=None, learning_rate=0.1,\n",
       "                               max_bin=None, max_cat_threshold=None,\n",
       "                               max_cat_to_onehot=None, max_delta_step=None,\n",
       "                               max_depth=None, max_leaves=None,\n",
       "                               min_child_weight=None, missing=nan,\n",
       "                               monotone_constraints=None, multi_strategy=None,\n",
       "                               n_estimators=10, n_jobs=None,\n",
       "                               num_parallel_tree=None, random_state=None, ...))])</pre></div></div></div><div class=\"sk-serial\"><div class=\"sk-item sk-dashed-wrapped\"><div class=\"sk-label-container\"><div class=\"sk-label sk-toggleable\"><input class=\"sk-toggleable__control sk-hidden--visually\" id=\"sk-estimator-id-2\" type=\"checkbox\" ><label for=\"sk-estimator-id-2\" class=\"sk-toggleable__label sk-toggleable__label-arrow\">prep: ColumnTransformer</label><div class=\"sk-toggleable__content\"><pre>ColumnTransformer(transformers=[(&#x27;num&#x27;, SimpleImputer(),\n",
       "                                 [&#x27;CryoSleep&#x27;, &#x27;Age&#x27;, &#x27;VIP&#x27;, &#x27;RoomService&#x27;,\n",
       "                                  &#x27;FoodCourt&#x27;, &#x27;ShoppingMall&#x27;, &#x27;Spa&#x27;, &#x27;VRDeck&#x27;,\n",
       "                                  &#x27;Group&#x27;, &#x27;Num&#x27;]),\n",
       "                                (&#x27;cat&#x27;,\n",
       "                                 Pipeline(steps=[(&#x27;imp&#x27;,\n",
       "                                                  SimpleImputer(strategy=&#x27;constant&#x27;)),\n",
       "                                                 (&#x27;enc&#x27;, OneHotEncoder())]),\n",
       "                                 [&#x27;HomePlanet&#x27;, &#x27;Destination&#x27;, &#x27;Deck&#x27;,\n",
       "                                  &#x27;Side&#x27;])])</pre></div></div></div><div class=\"sk-parallel\"><div class=\"sk-parallel-item\"><div class=\"sk-item\"><div class=\"sk-label-container\"><div class=\"sk-label sk-toggleable\"><input class=\"sk-toggleable__control sk-hidden--visually\" id=\"sk-estimator-id-3\" type=\"checkbox\" ><label for=\"sk-estimator-id-3\" class=\"sk-toggleable__label sk-toggleable__label-arrow\">num</label><div class=\"sk-toggleable__content\"><pre>[&#x27;CryoSleep&#x27;, &#x27;Age&#x27;, &#x27;VIP&#x27;, &#x27;RoomService&#x27;, &#x27;FoodCourt&#x27;, &#x27;ShoppingMall&#x27;, &#x27;Spa&#x27;, &#x27;VRDeck&#x27;, &#x27;Group&#x27;, &#x27;Num&#x27;]</pre></div></div></div><div class=\"sk-serial\"><div class=\"sk-item\"><div class=\"sk-estimator sk-toggleable\"><input class=\"sk-toggleable__control sk-hidden--visually\" id=\"sk-estimator-id-4\" type=\"checkbox\" ><label for=\"sk-estimator-id-4\" class=\"sk-toggleable__label sk-toggleable__label-arrow\">SimpleImputer</label><div class=\"sk-toggleable__content\"><pre>SimpleImputer()</pre></div></div></div></div></div></div><div class=\"sk-parallel-item\"><div class=\"sk-item\"><div class=\"sk-label-container\"><div class=\"sk-label sk-toggleable\"><input class=\"sk-toggleable__control sk-hidden--visually\" id=\"sk-estimator-id-5\" type=\"checkbox\" ><label for=\"sk-estimator-id-5\" class=\"sk-toggleable__label sk-toggleable__label-arrow\">cat</label><div class=\"sk-toggleable__content\"><pre>[&#x27;HomePlanet&#x27;, &#x27;Destination&#x27;, &#x27;Deck&#x27;, &#x27;Side&#x27;]</pre></div></div></div><div class=\"sk-serial\"><div class=\"sk-item\"><div class=\"sk-serial\"><div class=\"sk-item\"><div class=\"sk-estimator sk-toggleable\"><input class=\"sk-toggleable__control sk-hidden--visually\" id=\"sk-estimator-id-6\" type=\"checkbox\" ><label for=\"sk-estimator-id-6\" class=\"sk-toggleable__label sk-toggleable__label-arrow\">SimpleImputer</label><div class=\"sk-toggleable__content\"><pre>SimpleImputer(strategy=&#x27;constant&#x27;)</pre></div></div></div><div class=\"sk-item\"><div class=\"sk-estimator sk-toggleable\"><input class=\"sk-toggleable__control sk-hidden--visually\" id=\"sk-estimator-id-7\" type=\"checkbox\" ><label for=\"sk-estimator-id-7\" class=\"sk-toggleable__label sk-toggleable__label-arrow\">OneHotEncoder</label><div class=\"sk-toggleable__content\"><pre>OneHotEncoder()</pre></div></div></div></div></div></div></div></div></div></div><div class=\"sk-item\"><div class=\"sk-estimator sk-toggleable\"><input class=\"sk-toggleable__control sk-hidden--visually\" id=\"sk-estimator-id-8\" type=\"checkbox\" ><label for=\"sk-estimator-id-8\" class=\"sk-toggleable__label sk-toggleable__label-arrow\">XGBClassifier</label><div class=\"sk-toggleable__content\"><pre>XGBClassifier(base_score=None, booster=None, callbacks=None,\n",
       "              colsample_bylevel=None, colsample_bynode=None,\n",
       "              colsample_bytree=None, device=None, early_stopping_rounds=None,\n",
       "              enable_categorical=False, eval_metric=None, feature_types=None,\n",
       "              gamma=None, grow_policy=None, importance_type=None,\n",
       "              interaction_constraints=None, learning_rate=0.1, max_bin=None,\n",
       "              max_cat_threshold=None, max_cat_to_onehot=None,\n",
       "              max_delta_step=None, max_depth=None, max_leaves=None,\n",
       "              min_child_weight=None, missing=nan, monotone_constraints=None,\n",
       "              multi_strategy=None, n_estimators=10, n_jobs=None,\n",
       "              num_parallel_tree=None, random_state=None, ...)</pre></div></div></div></div></div></div></div>"
      ],
      "text/plain": [
       "Pipeline(steps=[('prep',\n",
       "                 ColumnTransformer(transformers=[('num', SimpleImputer(),\n",
       "                                                  ['CryoSleep', 'Age', 'VIP',\n",
       "                                                   'RoomService', 'FoodCourt',\n",
       "                                                   'ShoppingMall', 'Spa',\n",
       "                                                   'VRDeck', 'Group', 'Num']),\n",
       "                                                 ('cat',\n",
       "                                                  Pipeline(steps=[('imp',\n",
       "                                                                   SimpleImputer(strategy='constant')),\n",
       "                                                                  ('enc',\n",
       "                                                                   OneHotEncoder())]),\n",
       "                                                  ['HomePlanet', 'Destination',\n",
       "                                                   'Deck', 'Side'])])),\n",
       "                ('model',\n",
       "                 XGBClassifier(base_score=N...\n",
       "                               feature_types=None, gamma=None, grow_policy=None,\n",
       "                               importance_type=None,\n",
       "                               interaction_constraints=None, learning_rate=0.1,\n",
       "                               max_bin=None, max_cat_threshold=None,\n",
       "                               max_cat_to_onehot=None, max_delta_step=None,\n",
       "                               max_depth=None, max_leaves=None,\n",
       "                               min_child_weight=None, missing=nan,\n",
       "                               monotone_constraints=None, multi_strategy=None,\n",
       "                               n_estimators=10, n_jobs=None,\n",
       "                               num_parallel_tree=None, random_state=None, ...))])"
      ]
     },
     "execution_count": 6,
     "metadata": {},
     "output_type": "execute_result"
    }
   ],
   "source": [
    "from xgboost import XGBClassifier\n",
    "from sklearn.model_selection import cross_validate\n",
    "\n",
    "model = XGBClassifier(n_estimators=10,learning_rate=0.1)\n",
    "final = Pipeline(steps=[\n",
    "    (\"prep\",prep),\n",
    "    (\"model\", model)\n",
    "])\n",
    "\n",
    "cross_validate(final, x_data, y_data)\n",
    "final.fit(x_data,y_data)"
   ]
  },
  {
   "cell_type": "code",
   "execution_count": 7,
   "id": "e2e5d985",
   "metadata": {
    "execution": {
     "iopub.execute_input": "2023-12-16T12:56:33.864601Z",
     "iopub.status.busy": "2023-12-16T12:56:33.864107Z",
     "iopub.status.idle": "2023-12-16T12:56:33.918487Z",
     "shell.execute_reply": "2023-12-16T12:56:33.917025Z"
    },
    "papermill": {
     "duration": 0.06391,
     "end_time": "2023-12-16T12:56:33.921617",
     "exception": false,
     "start_time": "2023-12-16T12:56:33.857707",
     "status": "completed"
    },
    "tags": []
   },
   "outputs": [],
   "source": [
    "preds = final.predict(x_test)\n",
    "out = pd.DataFrame()\n",
    "out[\"PassengerId\"] = test[\"PassengerId\"]\n",
    "out[\"Transported\"] = preds\n",
    "out.to_csv(\"submission.csv\", index=False)"
   ]
  }
 ],
 "metadata": {
  "kaggle": {
   "accelerator": "none",
   "dataSources": [
    {
     "databundleVersionId": 3220602,
     "sourceId": 34377,
     "sourceType": "competition"
    }
   ],
   "dockerImageVersionId": 30626,
   "isGpuEnabled": false,
   "isInternetEnabled": true,
   "language": "python",
   "sourceType": "notebook"
  },
  "kernelspec": {
   "display_name": "Python 3",
   "language": "python",
   "name": "python3"
  },
  "language_info": {
   "codemirror_mode": {
    "name": "ipython",
    "version": 3
   },
   "file_extension": ".py",
   "mimetype": "text/x-python",
   "name": "python",
   "nbconvert_exporter": "python",
   "pygments_lexer": "ipython3",
   "version": "3.10.12"
  },
  "papermill": {
   "default_parameters": {},
   "duration": 8.012297,
   "end_time": "2023-12-16T12:56:34.651273",
   "environment_variables": {},
   "exception": null,
   "input_path": "__notebook__.ipynb",
   "output_path": "__notebook__.ipynb",
   "parameters": {},
   "start_time": "2023-12-16T12:56:26.638976",
   "version": "2.4.0"
  }
 },
 "nbformat": 4,
 "nbformat_minor": 5
}
